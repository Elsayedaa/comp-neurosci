{
 "cells": [
  {
   "cell_type": "markdown",
   "metadata": {
    "slideshow": {
     "slide_type": "slide"
    }
   },
   "source": [
    "## Lesson 7A: Decoding Models and Information Theory\n",
    "\n",
    "Up until now, we have mostly been considering models of how various stimulus features are **encoded** in neural activity.\n",
    "\n",
    "We'll now consider the other side of the coin: given a pattern of neural activity, what can we tell about what stimulus was presented?\n"
   ]
  },
  {
   "cell_type": "code",
   "execution_count": null,
   "metadata": {
    "slideshow": {
     "slide_type": "fragment"
    }
   },
   "outputs": [],
   "source": [
    "# load matplotlib inline mode\n",
    "%matplotlib inline\n",
    "\n",
    "# import some useful libraries\n",
    "import numpy as np                # numerical analysis linear algebra\n",
    "import matplotlib as mpl\n",
    "import matplotlib.pyplot as plt   # plotting\n",
    "\n",
    "# set some style options\n",
    "mpl.rcParams['image.origin'] = 'lower'\n",
    "mpl.rcParams['image.aspect'] = 'auto'\n",
    "mpl.rcParams['image.cmap'] = 'jet'"
   ]
  },
  {
   "cell_type": "markdown",
   "metadata": {
    "slideshow": {
     "slide_type": "slide"
    }
   },
   "source": [
    "## Encoding vs decoding models\n",
    "\n",
    "We can think of the sensory stimulus and the response it evokes as being random variables. In each trial, a stimulus is selected from the stimulus distribution, and this results in some spiking pattern which comes from a large (but finite) set of possible responses.\n",
    "\n",
    "<img src=\"images/l9_distributions.png\" alt=\"V1 tuning\" style=\"width: 500px;\"/>"
   ]
  },
  {
   "cell_type": "markdown",
   "metadata": {
    "slideshow": {
     "slide_type": "slide"
    }
   },
   "source": [
    "### Encoding models\n",
    "\n",
    "Goal is to model how the response depends on which stimulus was presented. More formally, a probabilistic model of the response conditional on the stimulus, $p(r|s)$. \n",
    "\n",
    "RF models covered in our last lesson are an example. The response at time $t_i$ is modeled as a weighted sum of the present and past values of the stimulus, plus some random noise, $\\varepsilon_i$.\n",
    "\n",
    "$$\n",
    "r_i = \\mathbf{s}_i \\cdot \\mathbf{h} + \\varepsilon_i\n",
    "$$\n",
    "\n",
    "If the errors are normally distributed with variance $\\sigma^2$, then the conditional probability is simply\n",
    "\n",
    "$$\n",
    "p(r|\\mathbf{s}) = \\mathrm{N}(\\mathbf{s} \\cdot \\mathbf{h}, \\sigma^2)\n",
    "$$"
   ]
  },
  {
   "cell_type": "markdown",
   "metadata": {
    "slideshow": {
     "slide_type": "slide"
    }
   },
   "source": [
    "### Decoding models\n",
    "\n",
    "In contrast, a decoding model attempts to reconstruct the stimulus based on the response. More formally, it represents $p(\\mathbf{s}|r)$, the probability that a stimulus was presented conditional on the response that was observed.\n",
    "\n",
    "Decoding models are related to encoding models through Bayes' rule:\n",
    "\n",
    "$$\n",
    "p(\\mathbf{s}|r) = \\frac{p(r|\\mathbf{s})p(\\mathbf{s})}{p(r)}\n",
    "$$"
   ]
  },
  {
   "cell_type": "markdown",
   "metadata": {
    "slideshow": {
     "slide_type": "slide"
    }
   },
   "source": [
    "## Signal detection\n",
    "\n",
    "Let's consider a simple problem in which we have to detect a signal against a noisy background. We'll start by describing the encoding model and then develop a decoding model.\n",
    "\n",
    "On a given trial, the stimulus $s$ is either present ($s = 1$) or absent ($s = 0$).\n",
    "\n",
    "Similarly, in each trial, the neuron that we're monitoring generates a response that we'll summarize by the rate $r$."
   ]
  },
  {
   "cell_type": "markdown",
   "metadata": {
    "slideshow": {
     "slide_type": "slide"
    }
   },
   "source": [
    "Let's assume that the conditional distribution of the responses is Gaussian:\n",
    "\n",
    "$$\n",
    "p(r|s) = \\mathrm{N}(\\mu, \\sigma^2)\n",
    "$$\n",
    "\n",
    "Furthermore, let's say that the average response $\\mu$ is a simple linear function of whether or not the stimulus is present:\n",
    "\n",
    "$$\n",
    "\\mu = \\beta_0 + \\beta_1 s\n",
    "$$\n",
    "\n",
    "Let's look at the distributions in Python:"
   ]
  },
  {
   "cell_type": "code",
   "execution_count": null,
   "metadata": {
    "slideshow": {
     "slide_type": "slide"
    }
   },
   "outputs": [],
   "source": [
    "from tools.dists import normal\n",
    "\n",
    "beta  = [10, 5]\n",
    "sigma = np.sqrt(5)\n",
    "\n",
    "r = np.arange(0, 30, 0.1)\n",
    "pr_noise = normal(mean=beta[0], std=sigma)\n",
    "pr_signal = normal(mean=beta[0] + beta[1], std=sigma)\n",
    "plt.plot(r, pr_noise.pdf(r), lw=2, label=\"p(r|s=0)\")\n",
    "plt.plot(r, pr_signal.pdf(r), lw=2, label=\"p(r|s=1)\")\n",
    "plt.legend()\n",
    "plt.xlabel(\"Rate\")\n",
    "plt.ylabel(\"Probability\");"
   ]
  },
  {
   "cell_type": "markdown",
   "metadata": {
    "slideshow": {
     "slide_type": "slide"
    }
   },
   "source": [
    "Now let's use Bayes's Rule to derive the decoding model, $p(s|r)$.\n",
    "\n",
    "First, note that $p(s=1|r) = 1 - p(s=0|r)$, so let's just consider the probability that the stimulus is present.\n",
    "\n",
    "Next, we need to calculate the marginal response probability $p(r)$, which is done by integrating the conditional response distributions:\n",
    "\n",
    "$$p(r) = \\sum p(s, r) = \\sum p(r|s) p(s) $$\n",
    "\n",
    "If the probability of the signal being present is 0.5, then this is equal to\n",
    "\n",
    "$$p(r) = \\frac{1}{2} p(r|s=0) + \\frac{1}{2} p(r|s=1)$$"
   ]
  },
  {
   "cell_type": "code",
   "execution_count": null,
   "metadata": {},
   "outputs": [],
   "source": [
    "ps = 0.5\n",
    "pr = (1 - ps) * pr_noise.pdf(r) + ps * pr_signal.pdf(r)\n",
    "plt.plot(r, pr)\n",
    "plt.xlabel(\"Rate\")\n",
    "plt.ylabel(\"p(r)\")"
   ]
  },
  {
   "cell_type": "markdown",
   "metadata": {
    "slideshow": {
     "slide_type": "slide"
    }
   },
   "source": [
    "Finally, we'll use Bayes's Rule to calculate $p(s|r)$. "
   ]
  },
  {
   "cell_type": "code",
   "execution_count": null,
   "metadata": {},
   "outputs": [],
   "source": [
    "# Bayes's Rule\n",
    "psr = (pr_signal.pdf(r) * ps) / pr\n",
    "plt.plot(r, psr)\n",
    "plt.xlabel(\"Rate\")\n",
    "plt.ylabel(\"p(s=1|r)\");"
   ]
  },
  {
   "cell_type": "markdown",
   "metadata": {},
   "source": [
    "### Exercise\n",
    "\n",
    "Write a **function** to calculate $p(s|r)$ for any value of $p(s)$. Plot $p(s|r)$ when $p(s) = 0.1$ and when $p(s) = 0.9$. How does the decoding model shift its output based on this prior knowledge?\n",
    "\n",
    "Consult the Software Carpentry [module for functions](http://swcarpentry.github.io/python-novice-inflammation/08-func/index.html) if you need a refresher."
   ]
  },
  {
   "cell_type": "code",
   "execution_count": null,
   "metadata": {},
   "outputs": [],
   "source": []
  },
  {
   "cell_type": "markdown",
   "metadata": {
    "slideshow": {
     "slide_type": "slide"
    }
   },
   "source": [
    "## ROC analysis\n",
    "\n",
    "The foregoing approach is called a **naive Bayesian decoder**. It works well if you happen to know or control the stimulus probabilities, and if you can collect enough data to accurately model $p(r|s)$.\n",
    "\n",
    "However, in the real world, it may not be possible to know what the prior probability of a stimulus is. In this case, the only strategy is to set a **criterion**, or threshold, for deciding whether the signal is present or not."
   ]
  },
  {
   "cell_type": "code",
   "execution_count": null,
   "metadata": {},
   "outputs": [],
   "source": [
    "plt.plot(r, pr_noise.pdf(r), lw=2, label=\"p(r|s=0)\")\n",
    "plt.plot(r, pr_signal.pdf(r), lw=2, label=\"p(r|s=1)\")\n",
    "plt.vlines(12, 0, 0.2, label=\"criterion\")\n",
    "plt.legend()\n",
    "plt.xlabel(\"Rate\")\n",
    "plt.ylabel(\"Probability\");"
   ]
  },
  {
   "cell_type": "markdown",
   "metadata": {},
   "source": [
    "If the response is above the criterion, the signal is assumed to be present, and if it's below, it's assumed to be absent."
   ]
  },
  {
   "cell_type": "markdown",
   "metadata": {
    "slideshow": {
     "slide_type": "slide"
    }
   },
   "source": [
    "### Exercise\n",
    "\n",
    "With $p(s) = 0.5$, what criterion would you choose to minimize the probability of an error? Give your best guess and explain why. We'll come up with a more formal solution later."
   ]
  },
  {
   "cell_type": "markdown",
   "metadata": {},
   "source": []
  },
  {
   "cell_type": "markdown",
   "metadata": {
    "slideshow": {
     "slide_type": "slide"
    }
   },
   "source": [
    "This problem is at the heart of **signal detection theory** (SDT). SDT applies not only to neurons but to the receiver at the end of any noisy communication channel. A core concept is the **reciever operating characteristic** (ROC), which describes how the receiver's ability to accurately detect the signal depends on where it sets its criterion.\n",
    "\n",
    "Because the criterion and the signal are both binary, this leads to a 2-by-2 table of possible outcomes. Let's let $y = 0$ represent a response of \"no signal\" (i.e. below criterion) and $y = 1$ represent a response of \"signal\" (above criterion):\n",
    "\n",
    "\n",
    "|  -  | s = 0 | s = 1 |\n",
    "|----|------|------|\n",
    "|y = 0  | correct rejection| miss |\n",
    "|y = 1  | false alarm | hit |\n",
    "\n",
    "It should be clear that false alarms and correct rejections are complementary, and so are misses and hits. Thus, we only need two values from the table, the false alarm rate and the hit rate. If we let $\\gamma$ be the criterion, then these are:\n",
    "\n",
    "\\begin{align}\n",
    "p(FA) & = p(r > \\gamma|s = 0) \\\\\n",
    "p(H) & = p(r > \\gamma|s = 1)\n",
    "\\end{align}"
   ]
  },
  {
   "cell_type": "markdown",
   "metadata": {
    "slideshow": {
     "slide_type": "slide"
    }
   },
   "source": [
    "As the criterion is changed, the false alarm and hit rate also change. You should be able to see this by looking at the plot of the two conditional response distributions above.\n",
    "\n",
    "Let's illustrate in Python. An important concept we need to cover first is the **cumulative probability distribution** or **cdf**. This is a function that gives the area under the pdf up to the specified value. Given $p(x)$, the cdf is defined as:\n",
    "\n",
    "$$\n",
    "P(y) = p(x \\leq y) = \\int_{-\\infty}^y p(x) dx\n",
    "$$"
   ]
  },
  {
   "cell_type": "markdown",
   "metadata": {
    "slideshow": {
     "slide_type": "slide"
    }
   },
   "source": [
    "### Exercise\n",
    "\n",
    "Define $p(FA)$ and $p(H)$ in terms of the **cdfs** for $p(r|s)$:"
   ]
  },
  {
   "cell_type": "markdown",
   "metadata": {},
   "source": [
    "\\begin{align}\n",
    "p(FA) & =  \\\\\n",
    "p(H) & = \n",
    "\\end{align}"
   ]
  },
  {
   "cell_type": "markdown",
   "metadata": {
    "slideshow": {
     "slide_type": "slide"
    }
   },
   "source": [
    "The Python implementation of the normal distirbution has a method `cdf()` that will evaluate the **cdf** for you.\n",
    "\n",
    "This allows us to generate a plot of $p(H)$ versus $p(FA)$ for different values of the criterion. This is called the ROC curve."
   ]
  },
  {
   "cell_type": "code",
   "execution_count": null,
   "metadata": {},
   "outputs": [],
   "source": [
    "gamma = np.arange(5, 20)\n",
    "pfa = 1 - pr_noise.cdf(gamma)\n",
    "phit = 1 - pr_signal.cdf(gamma)\n",
    "plt.plot(pfa, phit, 'o', label=r\"$\\sigma^2 = {}$\".format(5))\n",
    "plt.legend(loc='lower right')\n",
    "plt.xlabel(\"P(FA)\");\n",
    "plt.ylabel(\"P(H)\");"
   ]
  },
  {
   "cell_type": "markdown",
   "metadata": {},
   "source": [
    "Note that there is an inherent tradeoff. You can only increase the hit rate by also increasing the false alarm rate."
   ]
  },
  {
   "cell_type": "markdown",
   "metadata": {
    "slideshow": {
     "slide_type": "slide"
    }
   },
   "source": [
    "### Exercise\n",
    "\n",
    "Go back to the original definitions of $p(r|s)$. What do you think will happen if you increase or decrease $\\sigma^2$?\n",
    "\n",
    "Write a function to calculate the ROC as a function of $\\sigma^2$. Plot ROCs (using the same array of $\\gamma$ values as above) for $\\sigma^2 = 2, 10, 20, 100$."
   ]
  },
  {
   "cell_type": "code",
   "execution_count": null,
   "metadata": {},
   "outputs": [],
   "source": []
  },
  {
   "cell_type": "markdown",
   "metadata": {},
   "source": [
    "### Excursion\n",
    "\n",
    "If we assume that the conditional response distributions are normally distributed with equal variance, then we can summarize the relationship between them using a single number, $d'$ (d-prime). This is defined as the difference between the means divided by the standard deviation:\n",
    "\n",
    "$$\n",
    "d' = \\frac{\\beta_1}{\\sigma} = \\frac{\\mu_s - \\mu_n}{\\sigma}\n",
    "$$\n",
    "\n",
    "Furthermore, because the difference between the two means is itself a normal distribution, we can estimate $d'$ from the false alarm and hit rate at a single criterion value:\n",
    "\n",
    "$$\n",
    "d' = z(H) - z(FA)\n",
    "$$\n",
    "\n",
    "where $z(H)$ is the z-score of the hit rate and $z(FA)$ is the z-score of the false alarm rate. The z-score is simply the inverse of the normal cdf. We can calculate it in Python using the `ppf` method:"
   ]
  },
  {
   "cell_type": "code",
   "execution_count": null,
   "metadata": {},
   "outputs": [],
   "source": [
    "pfa = 1 - pr_noise.cdf(10)\n",
    "phit = 1 - pr_signal.cdf(10)\n",
    "\n",
    "std_normal = normal()\n",
    "d_prime = std_normal.ppf(phit) - std_normal.ppf(pfa)\n",
    "print(\"d' =\", d_prime)"
   ]
  },
  {
   "cell_type": "markdown",
   "metadata": {},
   "source": [
    "### Exercise\n",
    "\n",
    "1. With $\\sigma^2 = 5$, verify that $d'$ is the same for any value of $\\gamma$ in the support.\n",
    "2. Verify that this empirical calculation is correct given the value defined for $\\beta_1$ above.\n",
    "3. What is $d'$ when $\\sigma^2$ is increased to 10?"
   ]
  },
  {
   "cell_type": "code",
   "execution_count": null,
   "metadata": {},
   "outputs": [],
   "source": []
  },
  {
   "cell_type": "markdown",
   "metadata": {
    "slideshow": {
     "slide_type": "slide"
    }
   },
   "source": [
    "## Information Theory\n",
    "\n",
    "Signal detection theory is powerful, but it's not trival to apply to **discrimination** problems where there are more than two stimuli.\n",
    "\n",
    "Another way of summarizing decoding models is through information theory, which builds on the foundational work of Claude Shannon.\n",
    "\n",
    "We need to understand two key concepts: **entropy** and **information**"
   ]
  },
  {
   "cell_type": "markdown",
   "metadata": {
    "slideshow": {
     "slide_type": "slide"
    }
   },
   "source": [
    "### Entropy\n",
    "\n",
    "The idea of uncertainty is inherent to probability theory. If some event has a probability that's less than 1.0, that means that we're uncertain about whether it will happen.\n",
    "\n",
    "A probability distribution quantifies our uncertainty about all the values a particular random variable can take on.\n",
    "\n",
    "One way of summarizing the uncertainty of the whole distribution is by its **entropy**, which is defined as follows:\n",
    "\n",
    "$$\n",
    "H(R) = - \\sum_{r \\in R} p(r) \\log_2 p(r)\n",
    "$$\n",
    "\n",
    "For continuous distributions, the entropy is defined by an integral over the support of the pdf:\n",
    "\n",
    "$$\n",
    "H(R) = - \\int_{R} p(r) \\log_2 p(r) dr\n",
    "$$\n",
    "\n",
    "If, as above, a base-2 logarithm is used, then entropy has units of **bits**. You can interpret the entropy as the number of digital bits needed to represent the possible values of the distribution.\n",
    "\n",
    "For example, a fair coin has equal probability of being heads or tails, which gives it an entropy of 1 bit:"
   ]
  },
  {
   "cell_type": "code",
   "execution_count": null,
   "metadata": {},
   "outputs": [],
   "source": [
    "from tools.dists import bernoulli\n",
    "coin = bernoulli(p=0.5)\n",
    "coin.entropy() / np.log(2)"
   ]
  },
  {
   "cell_type": "markdown",
   "metadata": {
    "slideshow": {
     "slide_type": "-"
    }
   },
   "source": [
    "When the natural log is used, the units are called **nats**. The `scipy` distribution functions return entropy in nats, so we have to convert to bits by dividing by $\\log 2$."
   ]
  },
  {
   "cell_type": "markdown",
   "metadata": {
    "slideshow": {
     "slide_type": "slide"
    }
   },
   "source": [
    "### Exercise\n",
    "\n",
    "In constrast, if we have a coin that always lands heads, then there is no uncertainty about the outcome, and we need 0 bits to store it.\n",
    "\n",
    "Thus, we can infer that the entropy of the Bernoulli distribution depends on its parameter.\n",
    "\n",
    "Plot the entropy of the Bernoulli distribution as a function of its parameter $p$ (the probability that the value will be 1)."
   ]
  },
  {
   "cell_type": "code",
   "execution_count": null,
   "metadata": {},
   "outputs": [],
   "source": []
  },
  {
   "cell_type": "markdown",
   "metadata": {
    "slideshow": {
     "slide_type": "slide"
    }
   },
   "source": [
    "## Information\n",
    "\n",
    "Information has a lot of colloquial usages, but in information theory it means a reduction in uncertainty.\n",
    "\n",
    "**Mutual information** is the reduction in uncertainty about the value of one random variable when you know the value of another.\n",
    "\n",
    "$$\n",
    "I(S;R) = \\sum_{s \\in S, r \\in R} p(s, r) \\log_2 \\frac{p(s,r)}{p(s) p(r)}\n",
    "$$\n",
    "\n",
    "To understand this formula, think about the definition of a joint probability distribution. If the two variables are independent, that means that their joint distribution is just the product of the marginal distributions, \n",
    "$p(s, r) = p(s) p(r)$.\n",
    "\n",
    "In this case, the last term in the sum above is\n",
    "\n",
    "$$\n",
    "\\log_2 \\frac{p(s,r)}{p(s) p(r)} = \\log_2 \\frac{p(s)p(r)}{p(s)p(r)} = \\log_2 1 = 0\n",
    "$$\n",
    "\n",
    "In contrast, if $S$ and $R$ are not mutually independent, then $p(s,r) \\neq p(s)p(r)$ and $I(S; R) > 0$. MI is always non-negative."
   ]
  },
  {
   "cell_type": "markdown",
   "metadata": {},
   "source": [
    "### Exercise\n",
    "\n",
    "For the signal detection problem, with $\\beta_0 = 10$, $\\beta_1 = 5$, $\\sigma^2 = 5$, and $p(s) = 0.5$, calculate the mutual information between the signal $S$ and the response $R$.\n",
    "\n",
    "Calculating the joint probability distributions can be a little tricky, so it helps to factor them out:\n",
    "\n",
    "\\begin{align}\n",
    "I(S;R) & = \\sum_{s \\in S, r \\in R} p(s, r) \\log_2 \\frac{p(s,r)}{p(s) p(r)} \\\\\n",
    " & = \\sum_{s \\in S, r \\in R} p(r|s)p(s) \\log_2 \\frac{p(r|s)}{p(r)} \\\\\n",
    " & = \\sum_{s \\in S} p(s) \\sum_{r \\in R} p(r|s) \\log_2 \\frac{p(r|s)}{p(r)}\n",
    "\\end{align}\n"
   ]
  },
  {
   "cell_type": "code",
   "execution_count": null,
   "metadata": {},
   "outputs": [],
   "source": [
    "beta  = [10, 5]\n",
    "sigma = np.sqrt(5)\n",
    "r = np.arange(0, 30, 0.1)\n",
    "pr_noise = normal(mean=beta[0], std=sigma)\n",
    "pr_signal = normal(mean=beta[0] + beta[1], std=sigma)\n",
    "ps = 0.5"
   ]
  },
  {
   "cell_type": "markdown",
   "metadata": {},
   "source": [
    "What happens when you change the discretization of $𝑟$? Why? What would you need to do to remove this dependence?"
   ]
  },
  {
   "cell_type": "markdown",
   "metadata": {},
   "source": []
  },
  {
   "cell_type": "markdown",
   "metadata": {
    "slideshow": {
     "slide_type": "slide"
    }
   },
   "source": [
    "## Information and entropy\n",
    "\n",
    "Mutual information can also be calculated as a reduction in entropy:\n",
    "\n",
    "\\begin{align}\n",
    "I(S;R) & = H(S) - H(S|R) \\\\\n",
    "I(S;R) & = H(R) - H(R|S)\n",
    "\\end{align}\n",
    "\n",
    "The second term in each of the equations above is a **conditional entropy**, which can be calculated much like the standard entropy, but integrated over all the possible values of the conditioned variable:\n",
    "\n",
    "$$\n",
    "H(R|S) = - \\sum_{s \\in S} p(s) \\sum_{r \\in R} p(r|s) \\log_2 p(r|s)\n",
    "$$\n",
    "\n",
    "In the neural setting, the conditional entropy represents how much noise there is in the response. In other words, if the stimulus is known, how much does the response vary from trial to trial?"
   ]
  },
  {
   "cell_type": "markdown",
   "metadata": {
    "slideshow": {
     "slide_type": "slide"
    }
   },
   "source": [
    "One way of interpreting this relationship is as an *information channel* between the stimulus and the neural response. \n",
    "\n",
    "<img src=\"images/l9_information_channel.png\" alt=\"entropy and mutual information\" style=\"width: 400px;\"/>\n",
    "\n",
    "The amount of information carried by this channel can be thought of as either the total amount of information the neuron *could* represent in its response distribution $H(R)$, reduced by the variability in the response that is independent of the stimulus, $H(R|S)$, or as the total amount of uncertainty about the stimulus $H(S)$ reduced by the remaining uncertainty about the stimulus when the response is known, $H(S|R)$."
   ]
  },
  {
   "cell_type": "markdown",
   "metadata": {
    "slideshow": {
     "slide_type": "slide"
    }
   },
   "source": [
    "### Exercise\n",
    "\n",
    "Use one of the entropy formulas to calculate mutual information for the SDT problem, and verify that it agrees with the value you calculated previously."
   ]
  },
  {
   "cell_type": "code",
   "execution_count": null,
   "metadata": {},
   "outputs": [],
   "source": []
  },
  {
   "cell_type": "markdown",
   "metadata": {},
   "source": [
    "## Summary and parting thoughts\n",
    "\n",
    "Decoding models represent the probability of the stimulus conditional on the response.\n",
    "\n",
    "They can only represent a **best-case scenario**. They don't actually tell us how information in the neural response is intepreted by neurons downstream.\n",
    "\n",
    "MI can be used to identify stimulus regimes where a neuron carries more information.\n",
    "\n",
    "MI can also be used to compare neurons and brain regions.\n",
    "\n",
    "Calculating MI with small amounts of data requires a lot of assumptions."
   ]
  },
  {
   "cell_type": "markdown",
   "metadata": {
    "slideshow": {
     "slide_type": "slide"
    }
   },
   "source": [
    "## Lesson 7B: Data Structures\n",
    "\n",
    "This exercise builds on the lesson on Data I/O to introduce some ideas about how to organize your data as you read it into Python.\n",
    "\n",
    "There are whole courses on data representation, but we will only touch on a few topics of importance.\n",
    "\n",
    "- using Python **lists** and **dictionaries** and pandas **data frames** to represent hierarchical data\n",
    "- using the principles of **tidy data** to standardize and simplify tabular data\n"
   ]
  },
  {
   "cell_type": "markdown",
   "metadata": {
    "slideshow": {
     "slide_type": "slide"
    }
   },
   "source": [
    "### Readings\n",
    "\n",
    "For more information:\n",
    " \n",
    "- Wickham H. (2014) Tidy Data. J Stat Soft [doi:10.18637/jss.v059.i10](https://doi.org/10.18637/jss.v059.i10). This article is very R-centric, but the discussion of tidy data principles is generally applicable."
   ]
  },
  {
   "cell_type": "code",
   "execution_count": 1,
   "metadata": {
    "slideshow": {
     "slide_type": "fragment"
    }
   },
   "outputs": [],
   "source": [
    "# setting up the notebook\n",
    "%matplotlib inline\n",
    "\n",
    "# import some useful libraries\n",
    "import pprint\n",
    "import numpy as np                # numerical analysis linear algebra\n",
    "import pandas as pd\n",
    "import matplotlib.pyplot as plt   # plotting"
   ]
  },
  {
   "cell_type": "markdown",
   "metadata": {
    "slideshow": {
     "slide_type": "slide"
    }
   },
   "source": [
    "## Review of Python data types\n",
    "\n",
    "We've encountered a number of different Python data types so far. We've seen **atomic** data types like `int` and `float`, which are just single values, and we've seen **aggregate** data types like `list`, `tuple`, `str`, and `np.array` which can contain more than one value.\n",
    "\n",
    "What all of the aggregate types we've covered so far have in common is that they are indexed by number. We can access individual elements by numerical index (e.g. `my_array[0]`) and subsets of the sequence by slicing (e.g. `my_array[2:20]`). We saw how arrays can have more than one dimension, which then means we can access rows, columns, and various other kinds of subsets based on a combination of indices and slices (e.g. `col = my_array[:,0]`)\n",
    "\n",
    "We also saw that some kinds of aggregates support **nesting**. For example, point process data are usually represented by *lists of lists* or *lists of arrays*. Accessing elements of these data structures also requires multiple indices, but with some differences in syntax (e.g. `first_spike = trials[0][0]`)."
   ]
  },
  {
   "cell_type": "markdown",
   "metadata": {
    "slideshow": {
     "slide_type": "slide"
    }
   },
   "source": [
    "## Python dictionaries\n",
    "\n",
    "We're now going to consider the case when the elements in an aggregate are not (necessarily) in a particular order, but where instead they are defined by **labels**. In other words, instead of accessing elements by index (`data[0]`), we want to be able to do something like `data[\"label\"]`.\n",
    "\n",
    "The standard data type in Python for this kind of aggregate (which is called various things in different languages) is the `dict` (**dictionary**). As with a physical dictionary, each entry in a `dict` has a label (**key**) and a definition (**value**).\n",
    "\n",
    "There are two ways of creating dictionaries in Python:"
   ]
  },
  {
   "cell_type": "code",
   "execution_count": 2,
   "metadata": {},
   "outputs": [
    {
     "data": {
      "text/plain": [
       "{'a': 1, 'b': 'something else', 4: 'cow'}"
      ]
     },
     "execution_count": 2,
     "metadata": {},
     "output_type": "execute_result"
    }
   ],
   "source": [
    "# dictionary literal form\n",
    "d1 = {\"a\": 1, \"b\": \"something else\", 4: \"cow\"}\n",
    "d1"
   ]
  },
  {
   "cell_type": "code",
   "execution_count": 3,
   "metadata": {},
   "outputs": [
    {
     "data": {
      "text/plain": [
       "{'a': 1, 'b': 'something else'}"
      ]
     },
     "execution_count": 3,
     "metadata": {},
     "output_type": "execute_result"
    }
   ],
   "source": [
    "# functional form can only use string-based keys\n",
    "dict(a=1, b=\"something else\")"
   ]
  },
  {
   "cell_type": "markdown",
   "metadata": {
    "slideshow": {
     "slide_type": "slide"
    }
   },
   "source": [
    "The labels of a `dict` are called **keys**. In Python, keys can be strings, numbers, or anything that's *immutable*. The values in a `dict` can be anything.\n",
    "\n",
    "You access elements of a `dict` by key using the familiar bracket syntax:"
   ]
  },
  {
   "cell_type": "code",
   "execution_count": 4,
   "metadata": {},
   "outputs": [
    {
     "name": "stdout",
     "output_type": "stream",
     "text": [
      "a -> 1\n",
      "b -> something else\n"
     ]
    }
   ],
   "source": [
    "print(\"a ->\", d1[\"a\"])\n",
    "print(\"b ->\", d1[\"b\"])"
   ]
  },
  {
   "cell_type": "markdown",
   "metadata": {},
   "source": [
    "Trying to access a non-existent key generates an error:"
   ]
  },
  {
   "cell_type": "code",
   "execution_count": 5,
   "metadata": {},
   "outputs": [
    {
     "ename": "KeyError",
     "evalue": "'no'",
     "output_type": "error",
     "traceback": [
      "\u001b[0;31m---------------------------------------------------------------------------\u001b[0m",
      "\u001b[0;31mKeyError\u001b[0m                                  Traceback (most recent call last)",
      "\u001b[0;32m<ipython-input-5-40736b83af58>\u001b[0m in \u001b[0;36m<module>\u001b[0;34m\u001b[0m\n\u001b[0;32m----> 1\u001b[0;31m \u001b[0md1\u001b[0m\u001b[0;34m[\u001b[0m\u001b[0;34m\"no\"\u001b[0m\u001b[0;34m]\u001b[0m\u001b[0;34m\u001b[0m\u001b[0;34m\u001b[0m\u001b[0m\n\u001b[0m",
      "\u001b[0;31mKeyError\u001b[0m: 'no'"
     ]
    }
   ],
   "source": [
    "d1[\"no\"]"
   ]
  },
  {
   "cell_type": "markdown",
   "metadata": {},
   "source": [
    "You can add new key/value pairs to a dict by simple assignment:"
   ]
  },
  {
   "cell_type": "code",
   "execution_count": 6,
   "metadata": {},
   "outputs": [
    {
     "name": "stdout",
     "output_type": "stream",
     "text": [
      "{'a': 1, 'b': 'something else', 4: 'cow', 'new': 25}\n"
     ]
    }
   ],
   "source": [
    "d1[\"new\"] = 25\n",
    "print(d1)"
   ]
  },
  {
   "cell_type": "markdown",
   "metadata": {},
   "source": [
    "Keys are unique, so assigning a value to a key that already exists will replace the old value."
   ]
  },
  {
   "cell_type": "code",
   "execution_count": 7,
   "metadata": {},
   "outputs": [
    {
     "name": "stdout",
     "output_type": "stream",
     "text": [
      "{'a': 1, 'b': 'something else', 4: 'cow', 'new': 30}\n"
     ]
    }
   ],
   "source": [
    "d1[\"new\"] = 30\n",
    "print(d1)"
   ]
  },
  {
   "cell_type": "markdown",
   "metadata": {},
   "source": [
    "You can remove key/value pairs with the `pop` method:"
   ]
  },
  {
   "cell_type": "code",
   "execution_count": 8,
   "metadata": {},
   "outputs": [
    {
     "name": "stdout",
     "output_type": "stream",
     "text": [
      "4 -> cow\n",
      "{'a': 1, 'b': 'something else', 'new': 30}\n"
     ]
    }
   ],
   "source": [
    "print(\"4 ->\", d1.pop(4))\n",
    "print(d1)"
   ]
  },
  {
   "cell_type": "markdown",
   "metadata": {
    "slideshow": {
     "slide_type": "slide"
    }
   },
   "source": [
    "## Nested data structures\n",
    "\n",
    "Because Python `dict` and `list` can contain other `dict` and `list` objects, it's easy to create complex hierarchical data structures.\n",
    "\n",
    "For example, here's how we might represent some spike time data for a single neuron presented with two different stimuli:"
   ]
  },
  {
   "cell_type": "code",
   "execution_count": 9,
   "metadata": {},
   "outputs": [
    {
     "name": "stdout",
     "output_type": "stream",
     "text": [
      "{'cell': 'st231_11',\n",
      " 'date': '2019-01-22',\n",
      " 'spikes': {'A8': [array([756.77061414,  25.11438803, 354.03901533, 404.74818875,\n",
      "       435.93298668, 140.3106998 , 528.47635319, 514.91753363,\n",
      "       640.05879115, 661.48214133]),\n",
      "                   array([434.18812732, 789.717343  ,  34.65705739, 317.71298088,\n",
      "        75.74946492, 147.01942205, 774.66847328, 311.36061386,\n",
      "       845.67267056, 220.21546703, 119.5295517 , 342.37293918,\n",
      "       111.9664202 , 358.5587652 , 843.56880284])],\n",
      "            'B8': [array([138.21770087, 892.12575774,  58.72015894, 684.76736654,\n",
      "       479.27499797, 344.72252615, 135.26346185, 209.29168416,\n",
      "       751.05345235, 355.19252504, 159.86958662, 941.40806408,\n",
      "       105.74168539, 679.72719442, 475.17484459, 361.16359943,\n",
      "       773.57835392, 244.98644451, 666.42943871, 343.73919761,\n",
      "       479.82024135, 192.96999374]),\n",
      "                   array([886.03313662, 653.83541747, 527.19025106, 999.76644929,\n",
      "       426.69240381, 334.07558159, 942.88227868,  48.18904481,\n",
      "       935.64711533, 442.6043096 , 885.60607239, 198.06398246,\n",
      "       785.06387281, 118.41220743,  48.91634311, 594.42830732,\n",
      "       499.06287894])]}}\n"
     ]
    }
   ],
   "source": [
    "spikes = {'A8': [np.random.uniform(0, 1000, 10), np.random.uniform(0, 1000, 15)],\n",
    "          'B8': [np.random.uniform(0, 1000, 22), np.random.uniform(0, 1000, 17)]}\n",
    "cell = {'cell': 'st231_11', 'date': '2019-01-22', 'spikes': spikes}\n",
    "pprint.pprint(cell)"
   ]
  },
  {
   "cell_type": "markdown",
   "metadata": {
    "slideshow": {
     "slide_type": "slide"
    }
   },
   "source": [
    "## Traversing nested data structures\n",
    "\n",
    "We can access elements of a nested data structure with the bracket operators. Each level needs its own set of brackets."
   ]
  },
  {
   "cell_type": "code",
   "execution_count": 10,
   "metadata": {},
   "outputs": [
    {
     "data": {
      "text/plain": [
       "array([756.77061414,  25.11438803, 354.03901533, 404.74818875,\n",
       "       435.93298668, 140.3106998 , 528.47635319, 514.91753363,\n",
       "       640.05879115, 661.48214133])"
      ]
     },
     "execution_count": 10,
     "metadata": {},
     "output_type": "execute_result"
    }
   ],
   "source": [
    "cell['spikes']['A8'][0]"
   ]
  },
  {
   "cell_type": "markdown",
   "metadata": {},
   "source": [
    "We can also iterate through the structure using for loops. Iterating through list-type aggregates and dicts is slightly different, though."
   ]
  },
  {
   "cell_type": "code",
   "execution_count": 11,
   "metadata": {},
   "outputs": [
    {
     "name": "stdout",
     "output_type": "stream",
     "text": [
      "10\n",
      "15\n"
     ]
    }
   ],
   "source": [
    "# iterating through a list/tuple/array yields the items\n",
    "# example: print # of spikes in each trial\n",
    "for trial in cell['spikes']['A8']:\n",
    "    print(len(trial))"
   ]
  },
  {
   "cell_type": "code",
   "execution_count": 12,
   "metadata": {},
   "outputs": [
    {
     "name": "stdout",
     "output_type": "stream",
     "text": [
      "A8: 2 trials\n",
      "B8: 2 trials\n"
     ]
    }
   ],
   "source": [
    "# when iterating through a dict, we usually want to know the keys and values. Use the `items` method to get both.\n",
    "for stim, trials in cell['spikes'].items():\n",
    "    print(\"%s: %d trials\" % (stim, len(trials)))"
   ]
  },
  {
   "cell_type": "code",
   "execution_count": 13,
   "metadata": {},
   "outputs": [
    {
     "name": "stdout",
     "output_type": "stream",
     "text": [
      "trial 0: 10 spikes\n",
      "trial 1: 15 spikes\n"
     ]
    }
   ],
   "source": [
    "# if you need to know the index while iterating through a sequence, use the `enumerate` function\n",
    "for i, trial in enumerate(cell['spikes']['A8']):\n",
    "    print(\"trial %d: %d spikes\" % (i, len(trial)))"
   ]
  },
  {
   "cell_type": "markdown",
   "metadata": {
    "slideshow": {
     "slide_type": "slide"
    }
   },
   "source": [
    "### Nested loops\n",
    "\n",
    "If you need to traverse at multiple levels, you have to use **nested** loops. Notice how the outer `for` block contains an inner `for` block. The intepreter will loop through the arrays in the trial lists for each stimulus. "
   ]
  },
  {
   "cell_type": "code",
   "execution_count": 14,
   "metadata": {},
   "outputs": [
    {
     "name": "stdout",
     "output_type": "stream",
     "text": [
      "A8:\n",
      " trial 0: 10 spikes\n",
      " trial 1: 15 spikes\n",
      "B8:\n",
      " trial 0: 22 spikes\n",
      " trial 1: 17 spikes\n"
     ]
    }
   ],
   "source": [
    "for stim, trials in cell['spikes'].items():\n",
    "    print(\"%s:\" % stim)\n",
    "    for i, trial in enumerate(trials):\n",
    "        print(\" trial %d: %d spikes\" % (i, len(trial)))"
   ]
  },
  {
   "cell_type": "markdown",
   "metadata": {
    "slideshow": {
     "slide_type": "slide"
    }
   },
   "source": [
    "### List or dict?\n",
    "\n",
    "It's possible to represent the same data in a variety of ways. Take the following examples:"
   ]
  },
  {
   "cell_type": "code",
   "execution_count": 15,
   "metadata": {},
   "outputs": [],
   "source": [
    "prices     = {'a bear': 100, 'a dog': 20}\n",
    "itemdict   = {'a bear': {'price': 100}, 'a dog': {'price': 20}}\n",
    "itemlist   = [{'name': 'a bear', 'price': 100}, {'name': 'a dog', 'price': 20}]"
   ]
  },
  {
   "cell_type": "markdown",
   "metadata": {},
   "source": [
    "Why choose one form over another? There are a few reasons you might want to go with the second or third option: ordering, clarity, and extensibility.\n",
    "\n",
    "**Order**: In Python, dicts do not have a guaranteed order. That means when you iterate over a dict with `items()` or any other method, you're not necessarily going to get the same result. If order matters, use a list.\n",
    "\n",
    "**Clarity**: In `prices`, it's not necessarily clear what the keys or the values in the dict mean, aside from the name of the variable. In `itemdict` and `itemlist`, these meanings are *explicit* rather than *implicit*. Using a more explicit representation can help your data structures be clearer to other users and programmers.\n",
    "\n",
    "**Extensibility**: What do you do with `prices` if you want to add more information about your items? You really only have the option of creating another object or changing how the data are represented. With `itemdict` and `itemlist`, because each element is a dict, you can easily add new key/value pairs as your understanding of the problem changes. This can be important if you want older code to continue to work on the new data structures. This is also called *backwards compatibility*.\n",
    "\n",
    "Take-home: think about how you want to represent your data in your program in terms of your current and future needs. It often makes sense to choose more complex representations to preserve flexibility down the line. And the difference in your code may not be that much. Looping over these three structures is practically identical:"
   ]
  },
  {
   "cell_type": "code",
   "execution_count": 16,
   "metadata": {},
   "outputs": [
    {
     "name": "stdout",
     "output_type": "stream",
     "text": [
      "a bear costs 100\n",
      "a dog costs 20\n",
      "a bear costs 100\n",
      "a dog costs 20\n",
      "a bear costs 100\n",
      "a dog costs 20\n"
     ]
    }
   ],
   "source": [
    "for name, price in prices.items():\n",
    "    print(name, \"costs\", price)\n",
    "for name, item in itemdict.items():\n",
    "    print(name, \"costs\", item[\"price\"])\n",
    "for item in itemlist:\n",
    "    print(item[\"name\"], \"costs\", item[\"price\"])"
   ]
  },
  {
   "cell_type": "markdown",
   "metadata": {
    "slideshow": {
     "slide_type": "slide"
    }
   },
   "source": [
    "## Nested data structures: a real example\n",
    "\n",
    "Neuroscience experiments almost always have a hierarchical structure. \n",
    "\n",
    "Switch to the main tab for your jupyter notebook and look in the `data/starling-example` folder. You should see two subdirectories. These are the names of two units from different animals. The animal name is the first part of the directory name, i.e., `st11` and `st49`. Within each subdirectory, there are 6 files that hold the spike times in response to one of six different stimuli.\n",
    "\n",
    "How do we load the data? And how should we represent them in Python?\n",
    "\n",
    "Here's some code to traverse the data. We're now dealing with the filesystem, which has a hierarchical organization. The code demonstrates the use of the function `glob`, which gives us a list of files using **wildcards**, and the `split` function, which divides a string up into parts."
   ]
  },
  {
   "cell_type": "code",
   "execution_count": 17,
   "metadata": {},
   "outputs": [
    {
     "name": "stdout",
     "output_type": "stream",
     "text": [
      "animal: st11\n",
      " neuron: st11_1_2_1\n",
      "  stim: A0\n",
      "   trial 0 : 18 spikes\n",
      "   trial 1 : 10 spikes\n",
      "   trial 2 : 9 spikes\n",
      "   trial 3 : 2 spikes\n",
      "   trial 4 : 1 spikes\n",
      "  stim: A8\n",
      "   trial 0 : 23 spikes\n",
      "   trial 1 : 28 spikes\n",
      "   trial 2 : 18 spikes\n",
      "   trial 3 : 18 spikes\n",
      "   trial 4 : 16 spikes\n",
      "  stim: B0\n",
      "   trial 0 : 1 spikes\n",
      "   trial 1 : 1 spikes\n",
      "   trial 2 : 1 spikes\n",
      "   trial 3 : 3 spikes\n",
      "   trial 4 : 7 spikes\n",
      "  stim: B8\n",
      "   trial 0 : 36 spikes\n",
      "   trial 1 : 19 spikes\n",
      "   trial 2 : 23 spikes\n",
      "   trial 3 : 21 spikes\n",
      "   trial 4 : 16 spikes\n",
      "  stim: C0\n",
      "   trial 0 : 17 spikes\n",
      "   trial 1 : 19 spikes\n",
      "   trial 2 : 19 spikes\n",
      "   trial 3 : 27 spikes\n",
      "   trial 4 : 19 spikes\n",
      "  stim: C8\n",
      "   trial 0 : 13 spikes\n",
      "   trial 1 : 14 spikes\n",
      "   trial 2 : 13 spikes\n",
      "   trial 3 : 8 spikes\n",
      "   trial 4 : 8 spikes\n",
      "animal: st49\n",
      " neuron: st49_2_4_1\n",
      "  stim: A0\n",
      "   trial 0 : 86 spikes\n",
      "   trial 1 : 109 spikes\n",
      "   trial 2 : 104 spikes\n",
      "   trial 3 : 123 spikes\n",
      "   trial 4 : 113 spikes\n",
      "   trial 5 : 102 spikes\n",
      "   trial 6 : 96 spikes\n",
      "   trial 7 : 86 spikes\n",
      "   trial 8 : 102 spikes\n",
      "   trial 9 : 80 spikes\n",
      "  stim: A8\n",
      "   trial 0 : 85 spikes\n",
      "   trial 1 : 96 spikes\n",
      "   trial 2 : 80 spikes\n",
      "   trial 3 : 93 spikes\n",
      "   trial 4 : 83 spikes\n",
      "   trial 5 : 95 spikes\n",
      "   trial 6 : 86 spikes\n",
      "   trial 7 : 91 spikes\n",
      "   trial 8 : 93 spikes\n",
      "   trial 9 : 91 spikes\n",
      "  stim: B0\n",
      "   trial 0 : 95 spikes\n",
      "   trial 1 : 85 spikes\n",
      "   trial 2 : 108 spikes\n",
      "   trial 3 : 84 spikes\n",
      "   trial 4 : 85 spikes\n",
      "   trial 5 : 77 spikes\n",
      "   trial 6 : 91 spikes\n",
      "   trial 7 : 120 spikes\n",
      "   trial 8 : 89 spikes\n",
      "   trial 9 : 84 spikes\n",
      "  stim: B8\n",
      "   trial 0 : 106 spikes\n",
      "   trial 1 : 92 spikes\n",
      "   trial 2 : 77 spikes\n",
      "   trial 3 : 79 spikes\n",
      "   trial 4 : 91 spikes\n",
      "   trial 5 : 78 spikes\n",
      "   trial 6 : 90 spikes\n",
      "   trial 7 : 78 spikes\n",
      "   trial 8 : 74 spikes\n",
      "   trial 9 : 80 spikes\n",
      "  stim: C0\n",
      "   trial 0 : 112 spikes\n",
      "   trial 1 : 104 spikes\n",
      "   trial 2 : 130 spikes\n",
      "   trial 3 : 125 spikes\n",
      "   trial 4 : 87 spikes\n",
      "   trial 5 : 104 spikes\n",
      "   trial 6 : 99 spikes\n",
      "   trial 7 : 79 spikes\n",
      "   trial 8 : 81 spikes\n",
      "   trial 9 : 86 spikes\n",
      "  stim: C8\n",
      "   trial 0 : 92 spikes\n",
      "   trial 1 : 92 spikes\n",
      "   trial 2 : 82 spikes\n",
      "   trial 3 : 101 spikes\n",
      "   trial 4 : 85 spikes\n",
      "   trial 5 : 94 spikes\n",
      "   trial 6 : 87 spikes\n",
      "   trial 7 : 79 spikes\n",
      "   trial 8 : 101 spikes\n",
      "   trial 9 : 89 spikes\n"
     ]
    }
   ],
   "source": [
    "from os import path\n",
    "import glob\n",
    "\n",
    "def load_spikes(fname):\n",
    "    \"\"\"Load spikes from a file in flat ascii format\"\"\"\n",
    "    with open(fname, \"rt\") as fp:\n",
    "        return [np.fromstring(line, sep=\" \") for line in fp]\n",
    "\n",
    "# The '*' character will match any file name, so this `glob` call will return a list\n",
    "# of all the files in `data/starling-example/`\n",
    "for dirname in glob.glob(\"data/starling/spikes/*\"):\n",
    "    neuron = path.basename(dirname)\n",
    "    print(\"animal:\", neuron.split(\"_\")[0])\n",
    "    print(\" neuron:\", neuron)\n",
    "    for respfile in glob.glob(path.join(dirname, \"*\")):\n",
    "        stim = path.splitext(path.basename(respfile))[0]\n",
    "        print(\"  stim:\", stim)\n",
    "        for i, trial in enumerate(load_spikes(respfile)):\n",
    "            print(\"   trial\", i, \":\", len(trial), \"spikes\")\n",
    "        "
   ]
  },
  {
   "cell_type": "markdown",
   "metadata": {
    "slideshow": {
     "slide_type": "slide"
    }
   },
   "source": [
    "The data are clearly nested, like so:\n",
    "\n",
    "- animal\n",
    "  - neuron\n",
    "     - stimulus\n",
    "        - trial\n",
    "\n",
    "However, in deciding how to store the data we have some choices to make, because not everything needs to have its own level. \n",
    "\n",
    "As an example, the following structures hold the same information, but are not totally equivalent:"
   ]
  },
  {
   "cell_type": "code",
   "execution_count": 18,
   "metadata": {},
   "outputs": [
    {
     "name": "stdout",
     "output_type": "stream",
     "text": [
      "{'animal_id': {'neuron_id': {'stimulus_id': {'trial_1': [1, 2],\n",
      "                                             'trial_2': [3, 4]}}}}\n",
      "[{'animal': 'animal_id',\n",
      "  'data': [1, 2],\n",
      "  'neuron': 'neuron_id',\n",
      "  'stimulus': 'stimulus_id',\n",
      "  'trial': 1},\n",
      " {'animal': 'animal_id',\n",
      "  'data': [3, 4],\n",
      "  'neuron': 'neuron_id',\n",
      "  'stimulus': 'stimulus_id',\n",
      "  'trial': 2}]\n"
     ]
    }
   ],
   "source": [
    "nested = {\"animal_id\": {\"neuron_id\": {\"stimulus_id\": {\"trial_1\": [1,2], \"trial_2\": [3,4]}}}}\n",
    "flat = [{\"animal\": \"animal_id\", \"neuron\": \"neuron_id\", \"stimulus\": \"stimulus_id\", \"trial\": 1, \"data\": [1,2]},\n",
    "        {\"animal\": \"animal_id\", \"neuron\": \"neuron_id\", \"stimulus\": \"stimulus_id\", \"trial\": 2, \"data\": [3,4]}]\n",
    "pprint.pprint(nested)\n",
    "pprint.pprint(flat)"
   ]
  },
  {
   "cell_type": "markdown",
   "metadata": {
    "slideshow": {
     "slide_type": "slide"
    }
   },
   "source": [
    "In the *flattened* form, the levels are indicated by key/value pairs. In the *nested* form, the levels are indicated by hierarchical nesting. There may be many possible combinations of flattening and nesting.\n",
    "\n",
    "To decide what's best, start by thinking about what the *natural unit of analysis* is. In other words, what always goes together, and what can be set aside as an incidental property (for now)?\n",
    "\n",
    "Clearly, individual trials don't have much meaning on their own. They're repetitions that allow us to better estimate the distribution of a neuron's responses to a given stimulus. Similarly, individual stimuli represent a sample of the universe of possible stimuli. \n",
    "\n",
    "In contrast, if we're interested in analying how different neurons respond to various stimuli, we may not care right now about which animal the neuron came from. It might therefore make the most sense to have `animal` be a property rather than a separate level.\n",
    "\n",
    "Note that this doesn't prevent you from doing hierarchical models at a later stage; it just means that you're committing to doing the first step of your analysis with neurons as individual units. Also, there's not one right answer to this question."
   ]
  },
  {
   "cell_type": "markdown",
   "metadata": {
    "slideshow": {
     "slide_type": "slide"
    }
   },
   "source": [
    "Let's load the data into a nested dictionary, with `neuron` as the natural unit of analysis:"
   ]
  },
  {
   "cell_type": "code",
   "execution_count": 19,
   "metadata": {},
   "outputs": [],
   "source": [
    "spike_data = {}\n",
    "for dirname in glob.glob(\"data/starling/spikes/*\"):\n",
    "    neuron = path.basename(dirname)\n",
    "    animal = neuron.split(\"_\")[0]\n",
    "    stims = []\n",
    "    for respfile in glob.glob(path.join(dirname, \"*\")):\n",
    "        stim = path.splitext(path.basename(respfile))[0]\n",
    "        trials = load_spikes(respfile)\n",
    "        stims.append({\"stimulus\": stim, \"response\": trials})\n",
    "    ndata = {\"animal\": animal, \"stimuli\": stims}\n",
    "    spike_data[neuron] = ndata"
   ]
  },
  {
   "cell_type": "markdown",
   "metadata": {
    "slideshow": {
     "slide_type": "slide"
    }
   },
   "source": [
    "### Exercise 7B1\n",
    "\n",
    "Plot the responses of both neurons to all 6 stimuli. The plot should have 2 columns and 6 rows. Use code from previous assignments to generate the rasters."
   ]
  },
  {
   "cell_type": "code",
   "execution_count": null,
   "metadata": {},
   "outputs": [],
   "source": []
  },
  {
   "cell_type": "markdown",
   "metadata": {
    "slideshow": {
     "slide_type": "slide"
    }
   },
   "source": [
    "## Hierarchical data in pandas\n",
    "\n",
    "Hierarchical data can also be represented in tables. \n",
    "\n",
    "Recall that a pandas `Series` is a lot like a dictionary in that the elements are indexed by labels. However, the values in a series are usually scalars rather than arbitrary objects."
   ]
  },
  {
   "cell_type": "code",
   "execution_count": 20,
   "metadata": {},
   "outputs": [
    {
     "data": {
      "text/plain": [
       "st11     391\n",
       "st22     442\n",
       "st231    183\n",
       "dtype: int64"
      ]
     },
     "execution_count": 20,
     "metadata": {},
     "output_type": "execute_result"
    }
   ],
   "source": [
    "ages = pd.Series([391, 442, 183], index=['st11', 'st22', 'st231'])\n",
    "ages"
   ]
  },
  {
   "cell_type": "markdown",
   "metadata": {},
   "source": [
    "In fact, you can create Series objects from dicts:"
   ]
  },
  {
   "cell_type": "code",
   "execution_count": 21,
   "metadata": {
    "scrolled": true
   },
   "outputs": [
    {
     "data": {
      "text/plain": [
       "st11     391\n",
       "st22     442\n",
       "st231    183\n",
       "dtype: int64"
      ]
     },
     "execution_count": 21,
     "metadata": {},
     "output_type": "execute_result"
    }
   ],
   "source": [
    "pd.Series({'st11': 391, 'st22': 442, 'st231': 183})"
   ]
  },
  {
   "cell_type": "markdown",
   "metadata": {
    "slideshow": {
     "slide_type": "slide"
    }
   },
   "source": [
    "A pandas DataFrame is also like a dictionary, but the values are rows. This is equivalent to a dict of dicts, and this is one way you can create a DataFrame (though note that the table may need to be transposed so that the outer nesting level corresponds to rows rather than columns)."
   ]
  },
  {
   "cell_type": "code",
   "execution_count": 22,
   "metadata": {},
   "outputs": [
    {
     "data": {
      "text/html": [
       "<div>\n",
       "<style scoped>\n",
       "    .dataframe tbody tr th:only-of-type {\n",
       "        vertical-align: middle;\n",
       "    }\n",
       "\n",
       "    .dataframe tbody tr th {\n",
       "        vertical-align: top;\n",
       "    }\n",
       "\n",
       "    .dataframe thead th {\n",
       "        text-align: right;\n",
       "    }\n",
       "</style>\n",
       "<table border=\"1\" class=\"dataframe\">\n",
       "  <thead>\n",
       "    <tr style=\"text-align: right;\">\n",
       "      <th></th>\n",
       "      <th>age</th>\n",
       "      <th>sex</th>\n",
       "    </tr>\n",
       "  </thead>\n",
       "  <tbody>\n",
       "    <tr>\n",
       "      <th>st11</th>\n",
       "      <td>391</td>\n",
       "      <td>M</td>\n",
       "    </tr>\n",
       "    <tr>\n",
       "      <th>st22</th>\n",
       "      <td>442</td>\n",
       "      <td>F</td>\n",
       "    </tr>\n",
       "  </tbody>\n",
       "</table>\n",
       "</div>"
      ],
      "text/plain": [
       "      age sex\n",
       "st11  391   M\n",
       "st22  442   F"
      ]
     },
     "execution_count": 22,
     "metadata": {},
     "output_type": "execute_result"
    }
   ],
   "source": [
    "pd.DataFrame({'st11': {'age': 391, 'sex': 'M'}, 'st22': {'age': 442, 'sex': 'F'}}).T"
   ]
  },
  {
   "cell_type": "markdown",
   "metadata": {
    "slideshow": {
     "slide_type": "slide"
    }
   },
   "source": [
    "### Hierarchical indices\n",
    "\n",
    "Data can be nested in a pandas table through the use of multiple indices. Here's an example of how a Series of spike counts might look for trials nested under stimuli:"
   ]
  },
  {
   "cell_type": "code",
   "execution_count": 23,
   "metadata": {},
   "outputs": [
    {
     "data": {
      "text/plain": [
       "A8  0    10\n",
       "    1    22\n",
       "B8  0     2\n",
       "    1     5\n",
       "dtype: int64"
      ]
     },
     "execution_count": 23,
     "metadata": {},
     "output_type": "execute_result"
    }
   ],
   "source": [
    "counts = pd.Series([10, 22, 2, 5], index=[['A8', 'A8', 'B8', 'B8'], [0, 1, 0, 1]])\n",
    "counts"
   ]
  },
  {
   "cell_type": "markdown",
   "metadata": {},
   "source": [
    "Single-index `Series` and `DataFrame` objects are accessed with a single index; multi-index objects require more than one index:"
   ]
  },
  {
   "cell_type": "code",
   "execution_count": 24,
   "metadata": {},
   "outputs": [
    {
     "data": {
      "text/plain": [
       "10"
      ]
     },
     "execution_count": 24,
     "metadata": {},
     "output_type": "execute_result"
    }
   ],
   "source": [
    "counts[\"A8\", 0]"
   ]
  },
  {
   "cell_type": "markdown",
   "metadata": {},
   "source": [
    "This is conceptually quite similar to how you access data in nested dicts and lists, with some small differences in syntax:"
   ]
  },
  {
   "cell_type": "code",
   "execution_count": 25,
   "metadata": {},
   "outputs": [
    {
     "data": {
      "text/plain": [
       "1"
      ]
     },
     "execution_count": 25,
     "metadata": {},
     "output_type": "execute_result"
    }
   ],
   "source": [
    "nested[\"animal_id\"][\"neuron_id\"][\"stimulus_id\"][\"trial_1\"][0]"
   ]
  },
  {
   "cell_type": "markdown",
   "metadata": {},
   "source": [
    "However, because the data is more structured, multi-indexed pandas objects give you the ability to select rows based on any of the indices. For example, this pulls out all the rows where `trial` is 0."
   ]
  },
  {
   "cell_type": "code",
   "execution_count": 26,
   "metadata": {},
   "outputs": [
    {
     "data": {
      "text/plain": [
       "A8    10\n",
       "B8     2\n",
       "dtype: int64"
      ]
     },
     "execution_count": 26,
     "metadata": {},
     "output_type": "execute_result"
    }
   ],
   "source": [
    "counts[:, 0]"
   ]
  },
  {
   "cell_type": "markdown",
   "metadata": {},
   "source": [
    "There is a LOT more you can do with indices, and it's worth giving some careful study to the section on [Hierarchical Indexing](https://jakevdp.github.io/PythonDataScienceHandbook/03.05-hierarchical-indexing.html) in the Python Data Science Handbook."
   ]
  },
  {
   "cell_type": "markdown",
   "metadata": {
    "slideshow": {
     "slide_type": "slide"
    }
   },
   "source": [
    "## Demo\n",
    "\n",
    "Let's illustrate how we might traverse our spike data and calculate spike counts. We'll use standard Python types first and then convert to a pandas array:"
   ]
  },
  {
   "cell_type": "code",
   "execution_count": 27,
   "metadata": {},
   "outputs": [
    {
     "data": {
      "text/plain": [
       "[{'neuron': 'st11_1_2_1',\n",
       "  'animal': 'st11',\n",
       "  'stimulus': 'A0',\n",
       "  'trial': 0,\n",
       "  'count': 18},\n",
       " {'neuron': 'st11_1_2_1',\n",
       "  'animal': 'st11',\n",
       "  'stimulus': 'A0',\n",
       "  'trial': 1,\n",
       "  'count': 10},\n",
       " {'neuron': 'st11_1_2_1',\n",
       "  'animal': 'st11',\n",
       "  'stimulus': 'A0',\n",
       "  'trial': 2,\n",
       "  'count': 9},\n",
       " {'neuron': 'st11_1_2_1',\n",
       "  'animal': 'st11',\n",
       "  'stimulus': 'A0',\n",
       "  'trial': 3,\n",
       "  'count': 2},\n",
       " {'neuron': 'st11_1_2_1',\n",
       "  'animal': 'st11',\n",
       "  'stimulus': 'A0',\n",
       "  'trial': 4,\n",
       "  'count': 1},\n",
       " {'neuron': 'st11_1_2_1',\n",
       "  'animal': 'st11',\n",
       "  'stimulus': 'A8',\n",
       "  'trial': 0,\n",
       "  'count': 23},\n",
       " {'neuron': 'st11_1_2_1',\n",
       "  'animal': 'st11',\n",
       "  'stimulus': 'A8',\n",
       "  'trial': 1,\n",
       "  'count': 28},\n",
       " {'neuron': 'st11_1_2_1',\n",
       "  'animal': 'st11',\n",
       "  'stimulus': 'A8',\n",
       "  'trial': 2,\n",
       "  'count': 18},\n",
       " {'neuron': 'st11_1_2_1',\n",
       "  'animal': 'st11',\n",
       "  'stimulus': 'A8',\n",
       "  'trial': 3,\n",
       "  'count': 18},\n",
       " {'neuron': 'st11_1_2_1',\n",
       "  'animal': 'st11',\n",
       "  'stimulus': 'A8',\n",
       "  'trial': 4,\n",
       "  'count': 16},\n",
       " {'neuron': 'st11_1_2_1',\n",
       "  'animal': 'st11',\n",
       "  'stimulus': 'B0',\n",
       "  'trial': 0,\n",
       "  'count': 1},\n",
       " {'neuron': 'st11_1_2_1',\n",
       "  'animal': 'st11',\n",
       "  'stimulus': 'B0',\n",
       "  'trial': 1,\n",
       "  'count': 1},\n",
       " {'neuron': 'st11_1_2_1',\n",
       "  'animal': 'st11',\n",
       "  'stimulus': 'B0',\n",
       "  'trial': 2,\n",
       "  'count': 1},\n",
       " {'neuron': 'st11_1_2_1',\n",
       "  'animal': 'st11',\n",
       "  'stimulus': 'B0',\n",
       "  'trial': 3,\n",
       "  'count': 3},\n",
       " {'neuron': 'st11_1_2_1',\n",
       "  'animal': 'st11',\n",
       "  'stimulus': 'B0',\n",
       "  'trial': 4,\n",
       "  'count': 7},\n",
       " {'neuron': 'st11_1_2_1',\n",
       "  'animal': 'st11',\n",
       "  'stimulus': 'B8',\n",
       "  'trial': 0,\n",
       "  'count': 36},\n",
       " {'neuron': 'st11_1_2_1',\n",
       "  'animal': 'st11',\n",
       "  'stimulus': 'B8',\n",
       "  'trial': 1,\n",
       "  'count': 19},\n",
       " {'neuron': 'st11_1_2_1',\n",
       "  'animal': 'st11',\n",
       "  'stimulus': 'B8',\n",
       "  'trial': 2,\n",
       "  'count': 23},\n",
       " {'neuron': 'st11_1_2_1',\n",
       "  'animal': 'st11',\n",
       "  'stimulus': 'B8',\n",
       "  'trial': 3,\n",
       "  'count': 21},\n",
       " {'neuron': 'st11_1_2_1',\n",
       "  'animal': 'st11',\n",
       "  'stimulus': 'B8',\n",
       "  'trial': 4,\n",
       "  'count': 16},\n",
       " {'neuron': 'st11_1_2_1',\n",
       "  'animal': 'st11',\n",
       "  'stimulus': 'C0',\n",
       "  'trial': 0,\n",
       "  'count': 17},\n",
       " {'neuron': 'st11_1_2_1',\n",
       "  'animal': 'st11',\n",
       "  'stimulus': 'C0',\n",
       "  'trial': 1,\n",
       "  'count': 19},\n",
       " {'neuron': 'st11_1_2_1',\n",
       "  'animal': 'st11',\n",
       "  'stimulus': 'C0',\n",
       "  'trial': 2,\n",
       "  'count': 19},\n",
       " {'neuron': 'st11_1_2_1',\n",
       "  'animal': 'st11',\n",
       "  'stimulus': 'C0',\n",
       "  'trial': 3,\n",
       "  'count': 27},\n",
       " {'neuron': 'st11_1_2_1',\n",
       "  'animal': 'st11',\n",
       "  'stimulus': 'C0',\n",
       "  'trial': 4,\n",
       "  'count': 19},\n",
       " {'neuron': 'st11_1_2_1',\n",
       "  'animal': 'st11',\n",
       "  'stimulus': 'C8',\n",
       "  'trial': 0,\n",
       "  'count': 13},\n",
       " {'neuron': 'st11_1_2_1',\n",
       "  'animal': 'st11',\n",
       "  'stimulus': 'C8',\n",
       "  'trial': 1,\n",
       "  'count': 14},\n",
       " {'neuron': 'st11_1_2_1',\n",
       "  'animal': 'st11',\n",
       "  'stimulus': 'C8',\n",
       "  'trial': 2,\n",
       "  'count': 13},\n",
       " {'neuron': 'st11_1_2_1',\n",
       "  'animal': 'st11',\n",
       "  'stimulus': 'C8',\n",
       "  'trial': 3,\n",
       "  'count': 8},\n",
       " {'neuron': 'st11_1_2_1',\n",
       "  'animal': 'st11',\n",
       "  'stimulus': 'C8',\n",
       "  'trial': 4,\n",
       "  'count': 8},\n",
       " {'neuron': 'st49_2_4_1',\n",
       "  'animal': 'st49',\n",
       "  'stimulus': 'A0',\n",
       "  'trial': 0,\n",
       "  'count': 86},\n",
       " {'neuron': 'st49_2_4_1',\n",
       "  'animal': 'st49',\n",
       "  'stimulus': 'A0',\n",
       "  'trial': 1,\n",
       "  'count': 109},\n",
       " {'neuron': 'st49_2_4_1',\n",
       "  'animal': 'st49',\n",
       "  'stimulus': 'A0',\n",
       "  'trial': 2,\n",
       "  'count': 104},\n",
       " {'neuron': 'st49_2_4_1',\n",
       "  'animal': 'st49',\n",
       "  'stimulus': 'A0',\n",
       "  'trial': 3,\n",
       "  'count': 123},\n",
       " {'neuron': 'st49_2_4_1',\n",
       "  'animal': 'st49',\n",
       "  'stimulus': 'A0',\n",
       "  'trial': 4,\n",
       "  'count': 113},\n",
       " {'neuron': 'st49_2_4_1',\n",
       "  'animal': 'st49',\n",
       "  'stimulus': 'A0',\n",
       "  'trial': 5,\n",
       "  'count': 102},\n",
       " {'neuron': 'st49_2_4_1',\n",
       "  'animal': 'st49',\n",
       "  'stimulus': 'A0',\n",
       "  'trial': 6,\n",
       "  'count': 96},\n",
       " {'neuron': 'st49_2_4_1',\n",
       "  'animal': 'st49',\n",
       "  'stimulus': 'A0',\n",
       "  'trial': 7,\n",
       "  'count': 86},\n",
       " {'neuron': 'st49_2_4_1',\n",
       "  'animal': 'st49',\n",
       "  'stimulus': 'A0',\n",
       "  'trial': 8,\n",
       "  'count': 102},\n",
       " {'neuron': 'st49_2_4_1',\n",
       "  'animal': 'st49',\n",
       "  'stimulus': 'A0',\n",
       "  'trial': 9,\n",
       "  'count': 80},\n",
       " {'neuron': 'st49_2_4_1',\n",
       "  'animal': 'st49',\n",
       "  'stimulus': 'A8',\n",
       "  'trial': 0,\n",
       "  'count': 85},\n",
       " {'neuron': 'st49_2_4_1',\n",
       "  'animal': 'st49',\n",
       "  'stimulus': 'A8',\n",
       "  'trial': 1,\n",
       "  'count': 96},\n",
       " {'neuron': 'st49_2_4_1',\n",
       "  'animal': 'st49',\n",
       "  'stimulus': 'A8',\n",
       "  'trial': 2,\n",
       "  'count': 80},\n",
       " {'neuron': 'st49_2_4_1',\n",
       "  'animal': 'st49',\n",
       "  'stimulus': 'A8',\n",
       "  'trial': 3,\n",
       "  'count': 93},\n",
       " {'neuron': 'st49_2_4_1',\n",
       "  'animal': 'st49',\n",
       "  'stimulus': 'A8',\n",
       "  'trial': 4,\n",
       "  'count': 83},\n",
       " {'neuron': 'st49_2_4_1',\n",
       "  'animal': 'st49',\n",
       "  'stimulus': 'A8',\n",
       "  'trial': 5,\n",
       "  'count': 95},\n",
       " {'neuron': 'st49_2_4_1',\n",
       "  'animal': 'st49',\n",
       "  'stimulus': 'A8',\n",
       "  'trial': 6,\n",
       "  'count': 86},\n",
       " {'neuron': 'st49_2_4_1',\n",
       "  'animal': 'st49',\n",
       "  'stimulus': 'A8',\n",
       "  'trial': 7,\n",
       "  'count': 91},\n",
       " {'neuron': 'st49_2_4_1',\n",
       "  'animal': 'st49',\n",
       "  'stimulus': 'A8',\n",
       "  'trial': 8,\n",
       "  'count': 93},\n",
       " {'neuron': 'st49_2_4_1',\n",
       "  'animal': 'st49',\n",
       "  'stimulus': 'A8',\n",
       "  'trial': 9,\n",
       "  'count': 91},\n",
       " {'neuron': 'st49_2_4_1',\n",
       "  'animal': 'st49',\n",
       "  'stimulus': 'B0',\n",
       "  'trial': 0,\n",
       "  'count': 95},\n",
       " {'neuron': 'st49_2_4_1',\n",
       "  'animal': 'st49',\n",
       "  'stimulus': 'B0',\n",
       "  'trial': 1,\n",
       "  'count': 85},\n",
       " {'neuron': 'st49_2_4_1',\n",
       "  'animal': 'st49',\n",
       "  'stimulus': 'B0',\n",
       "  'trial': 2,\n",
       "  'count': 108},\n",
       " {'neuron': 'st49_2_4_1',\n",
       "  'animal': 'st49',\n",
       "  'stimulus': 'B0',\n",
       "  'trial': 3,\n",
       "  'count': 84},\n",
       " {'neuron': 'st49_2_4_1',\n",
       "  'animal': 'st49',\n",
       "  'stimulus': 'B0',\n",
       "  'trial': 4,\n",
       "  'count': 85},\n",
       " {'neuron': 'st49_2_4_1',\n",
       "  'animal': 'st49',\n",
       "  'stimulus': 'B0',\n",
       "  'trial': 5,\n",
       "  'count': 77},\n",
       " {'neuron': 'st49_2_4_1',\n",
       "  'animal': 'st49',\n",
       "  'stimulus': 'B0',\n",
       "  'trial': 6,\n",
       "  'count': 91},\n",
       " {'neuron': 'st49_2_4_1',\n",
       "  'animal': 'st49',\n",
       "  'stimulus': 'B0',\n",
       "  'trial': 7,\n",
       "  'count': 120},\n",
       " {'neuron': 'st49_2_4_1',\n",
       "  'animal': 'st49',\n",
       "  'stimulus': 'B0',\n",
       "  'trial': 8,\n",
       "  'count': 89},\n",
       " {'neuron': 'st49_2_4_1',\n",
       "  'animal': 'st49',\n",
       "  'stimulus': 'B0',\n",
       "  'trial': 9,\n",
       "  'count': 84},\n",
       " {'neuron': 'st49_2_4_1',\n",
       "  'animal': 'st49',\n",
       "  'stimulus': 'B8',\n",
       "  'trial': 0,\n",
       "  'count': 106},\n",
       " {'neuron': 'st49_2_4_1',\n",
       "  'animal': 'st49',\n",
       "  'stimulus': 'B8',\n",
       "  'trial': 1,\n",
       "  'count': 92},\n",
       " {'neuron': 'st49_2_4_1',\n",
       "  'animal': 'st49',\n",
       "  'stimulus': 'B8',\n",
       "  'trial': 2,\n",
       "  'count': 77},\n",
       " {'neuron': 'st49_2_4_1',\n",
       "  'animal': 'st49',\n",
       "  'stimulus': 'B8',\n",
       "  'trial': 3,\n",
       "  'count': 79},\n",
       " {'neuron': 'st49_2_4_1',\n",
       "  'animal': 'st49',\n",
       "  'stimulus': 'B8',\n",
       "  'trial': 4,\n",
       "  'count': 91},\n",
       " {'neuron': 'st49_2_4_1',\n",
       "  'animal': 'st49',\n",
       "  'stimulus': 'B8',\n",
       "  'trial': 5,\n",
       "  'count': 78},\n",
       " {'neuron': 'st49_2_4_1',\n",
       "  'animal': 'st49',\n",
       "  'stimulus': 'B8',\n",
       "  'trial': 6,\n",
       "  'count': 90},\n",
       " {'neuron': 'st49_2_4_1',\n",
       "  'animal': 'st49',\n",
       "  'stimulus': 'B8',\n",
       "  'trial': 7,\n",
       "  'count': 78},\n",
       " {'neuron': 'st49_2_4_1',\n",
       "  'animal': 'st49',\n",
       "  'stimulus': 'B8',\n",
       "  'trial': 8,\n",
       "  'count': 74},\n",
       " {'neuron': 'st49_2_4_1',\n",
       "  'animal': 'st49',\n",
       "  'stimulus': 'B8',\n",
       "  'trial': 9,\n",
       "  'count': 80},\n",
       " {'neuron': 'st49_2_4_1',\n",
       "  'animal': 'st49',\n",
       "  'stimulus': 'C0',\n",
       "  'trial': 0,\n",
       "  'count': 112},\n",
       " {'neuron': 'st49_2_4_1',\n",
       "  'animal': 'st49',\n",
       "  'stimulus': 'C0',\n",
       "  'trial': 1,\n",
       "  'count': 104},\n",
       " {'neuron': 'st49_2_4_1',\n",
       "  'animal': 'st49',\n",
       "  'stimulus': 'C0',\n",
       "  'trial': 2,\n",
       "  'count': 130},\n",
       " {'neuron': 'st49_2_4_1',\n",
       "  'animal': 'st49',\n",
       "  'stimulus': 'C0',\n",
       "  'trial': 3,\n",
       "  'count': 125},\n",
       " {'neuron': 'st49_2_4_1',\n",
       "  'animal': 'st49',\n",
       "  'stimulus': 'C0',\n",
       "  'trial': 4,\n",
       "  'count': 87},\n",
       " {'neuron': 'st49_2_4_1',\n",
       "  'animal': 'st49',\n",
       "  'stimulus': 'C0',\n",
       "  'trial': 5,\n",
       "  'count': 104},\n",
       " {'neuron': 'st49_2_4_1',\n",
       "  'animal': 'st49',\n",
       "  'stimulus': 'C0',\n",
       "  'trial': 6,\n",
       "  'count': 99},\n",
       " {'neuron': 'st49_2_4_1',\n",
       "  'animal': 'st49',\n",
       "  'stimulus': 'C0',\n",
       "  'trial': 7,\n",
       "  'count': 79},\n",
       " {'neuron': 'st49_2_4_1',\n",
       "  'animal': 'st49',\n",
       "  'stimulus': 'C0',\n",
       "  'trial': 8,\n",
       "  'count': 81},\n",
       " {'neuron': 'st49_2_4_1',\n",
       "  'animal': 'st49',\n",
       "  'stimulus': 'C0',\n",
       "  'trial': 9,\n",
       "  'count': 86},\n",
       " {'neuron': 'st49_2_4_1',\n",
       "  'animal': 'st49',\n",
       "  'stimulus': 'C8',\n",
       "  'trial': 0,\n",
       "  'count': 92},\n",
       " {'neuron': 'st49_2_4_1',\n",
       "  'animal': 'st49',\n",
       "  'stimulus': 'C8',\n",
       "  'trial': 1,\n",
       "  'count': 92},\n",
       " {'neuron': 'st49_2_4_1',\n",
       "  'animal': 'st49',\n",
       "  'stimulus': 'C8',\n",
       "  'trial': 2,\n",
       "  'count': 82},\n",
       " {'neuron': 'st49_2_4_1',\n",
       "  'animal': 'st49',\n",
       "  'stimulus': 'C8',\n",
       "  'trial': 3,\n",
       "  'count': 101},\n",
       " {'neuron': 'st49_2_4_1',\n",
       "  'animal': 'st49',\n",
       "  'stimulus': 'C8',\n",
       "  'trial': 4,\n",
       "  'count': 85},\n",
       " {'neuron': 'st49_2_4_1',\n",
       "  'animal': 'st49',\n",
       "  'stimulus': 'C8',\n",
       "  'trial': 5,\n",
       "  'count': 94},\n",
       " {'neuron': 'st49_2_4_1',\n",
       "  'animal': 'st49',\n",
       "  'stimulus': 'C8',\n",
       "  'trial': 6,\n",
       "  'count': 87},\n",
       " {'neuron': 'st49_2_4_1',\n",
       "  'animal': 'st49',\n",
       "  'stimulus': 'C8',\n",
       "  'trial': 7,\n",
       "  'count': 79},\n",
       " {'neuron': 'st49_2_4_1',\n",
       "  'animal': 'st49',\n",
       "  'stimulus': 'C8',\n",
       "  'trial': 8,\n",
       "  'count': 101},\n",
       " {'neuron': 'st49_2_4_1',\n",
       "  'animal': 'st49',\n",
       "  'stimulus': 'C8',\n",
       "  'trial': 9,\n",
       "  'count': 89}]"
      ]
     },
     "execution_count": 27,
     "metadata": {},
     "output_type": "execute_result"
    }
   ],
   "source": [
    "spike_counts = []\n",
    "for neuron, ndata in spike_data.items():\n",
    "    for stimresp in ndata['stimuli']:\n",
    "        for i, trial in enumerate(stimresp['response']):\n",
    "            d = {\n",
    "                \"neuron\": neuron, \n",
    "                \"animal\": ndata[\"animal\"], \n",
    "                \"stimulus\": stimresp[\"stimulus\"], \n",
    "                \"trial\": i, \n",
    "                \"count\": len(trial)\n",
    "                }\n",
    "            spike_counts.append(d)\n",
    "spike_counts"
   ]
  },
  {
   "cell_type": "markdown",
   "metadata": {
    "slideshow": {
     "slide_type": "slide"
    }
   },
   "source": [
    "Notice how we're flattening the data structure by storing information about each level in individual records. This makes it easier to convert to a pandas DataFrame:"
   ]
  },
  {
   "cell_type": "code",
   "execution_count": 28,
   "metadata": {},
   "outputs": [
    {
     "data": {
      "text/html": [
       "<div>\n",
       "<style scoped>\n",
       "    .dataframe tbody tr th:only-of-type {\n",
       "        vertical-align: middle;\n",
       "    }\n",
       "\n",
       "    .dataframe tbody tr th {\n",
       "        vertical-align: top;\n",
       "    }\n",
       "\n",
       "    .dataframe thead th {\n",
       "        text-align: right;\n",
       "    }\n",
       "</style>\n",
       "<table border=\"1\" class=\"dataframe\">\n",
       "  <thead>\n",
       "    <tr style=\"text-align: right;\">\n",
       "      <th></th>\n",
       "      <th>neuron</th>\n",
       "      <th>animal</th>\n",
       "      <th>stimulus</th>\n",
       "      <th>trial</th>\n",
       "      <th>count</th>\n",
       "    </tr>\n",
       "  </thead>\n",
       "  <tbody>\n",
       "    <tr>\n",
       "      <th>0</th>\n",
       "      <td>st11_1_2_1</td>\n",
       "      <td>st11</td>\n",
       "      <td>A0</td>\n",
       "      <td>0</td>\n",
       "      <td>18</td>\n",
       "    </tr>\n",
       "    <tr>\n",
       "      <th>1</th>\n",
       "      <td>st11_1_2_1</td>\n",
       "      <td>st11</td>\n",
       "      <td>A0</td>\n",
       "      <td>1</td>\n",
       "      <td>10</td>\n",
       "    </tr>\n",
       "    <tr>\n",
       "      <th>2</th>\n",
       "      <td>st11_1_2_1</td>\n",
       "      <td>st11</td>\n",
       "      <td>A0</td>\n",
       "      <td>2</td>\n",
       "      <td>9</td>\n",
       "    </tr>\n",
       "    <tr>\n",
       "      <th>3</th>\n",
       "      <td>st11_1_2_1</td>\n",
       "      <td>st11</td>\n",
       "      <td>A0</td>\n",
       "      <td>3</td>\n",
       "      <td>2</td>\n",
       "    </tr>\n",
       "    <tr>\n",
       "      <th>4</th>\n",
       "      <td>st11_1_2_1</td>\n",
       "      <td>st11</td>\n",
       "      <td>A0</td>\n",
       "      <td>4</td>\n",
       "      <td>1</td>\n",
       "    </tr>\n",
       "    <tr>\n",
       "      <th>...</th>\n",
       "      <td>...</td>\n",
       "      <td>...</td>\n",
       "      <td>...</td>\n",
       "      <td>...</td>\n",
       "      <td>...</td>\n",
       "    </tr>\n",
       "    <tr>\n",
       "      <th>85</th>\n",
       "      <td>st49_2_4_1</td>\n",
       "      <td>st49</td>\n",
       "      <td>C8</td>\n",
       "      <td>5</td>\n",
       "      <td>94</td>\n",
       "    </tr>\n",
       "    <tr>\n",
       "      <th>86</th>\n",
       "      <td>st49_2_4_1</td>\n",
       "      <td>st49</td>\n",
       "      <td>C8</td>\n",
       "      <td>6</td>\n",
       "      <td>87</td>\n",
       "    </tr>\n",
       "    <tr>\n",
       "      <th>87</th>\n",
       "      <td>st49_2_4_1</td>\n",
       "      <td>st49</td>\n",
       "      <td>C8</td>\n",
       "      <td>7</td>\n",
       "      <td>79</td>\n",
       "    </tr>\n",
       "    <tr>\n",
       "      <th>88</th>\n",
       "      <td>st49_2_4_1</td>\n",
       "      <td>st49</td>\n",
       "      <td>C8</td>\n",
       "      <td>8</td>\n",
       "      <td>101</td>\n",
       "    </tr>\n",
       "    <tr>\n",
       "      <th>89</th>\n",
       "      <td>st49_2_4_1</td>\n",
       "      <td>st49</td>\n",
       "      <td>C8</td>\n",
       "      <td>9</td>\n",
       "      <td>89</td>\n",
       "    </tr>\n",
       "  </tbody>\n",
       "</table>\n",
       "<p>90 rows × 5 columns</p>\n",
       "</div>"
      ],
      "text/plain": [
       "        neuron animal stimulus  trial  count\n",
       "0   st11_1_2_1   st11       A0      0     18\n",
       "1   st11_1_2_1   st11       A0      1     10\n",
       "2   st11_1_2_1   st11       A0      2      9\n",
       "3   st11_1_2_1   st11       A0      3      2\n",
       "4   st11_1_2_1   st11       A0      4      1\n",
       "..         ...    ...      ...    ...    ...\n",
       "85  st49_2_4_1   st49       C8      5     94\n",
       "86  st49_2_4_1   st49       C8      6     87\n",
       "87  st49_2_4_1   st49       C8      7     79\n",
       "88  st49_2_4_1   st49       C8      8    101\n",
       "89  st49_2_4_1   st49       C8      9     89\n",
       "\n",
       "[90 rows x 5 columns]"
      ]
     },
     "execution_count": 28,
     "metadata": {},
     "output_type": "execute_result"
    }
   ],
   "source": [
    "count_df = pd.DataFrame(spike_counts)\n",
    "count_df"
   ]
  },
  {
   "cell_type": "markdown",
   "metadata": {
    "slideshow": {
     "slide_type": "slide"
    }
   },
   "source": [
    "The final step is to convert some of the columns to indices."
   ]
  },
  {
   "cell_type": "code",
   "execution_count": 29,
   "metadata": {},
   "outputs": [
    {
     "data": {
      "text/html": [
       "<div>\n",
       "<style scoped>\n",
       "    .dataframe tbody tr th:only-of-type {\n",
       "        vertical-align: middle;\n",
       "    }\n",
       "\n",
       "    .dataframe tbody tr th {\n",
       "        vertical-align: top;\n",
       "    }\n",
       "\n",
       "    .dataframe thead th {\n",
       "        text-align: right;\n",
       "    }\n",
       "</style>\n",
       "<table border=\"1\" class=\"dataframe\">\n",
       "  <thead>\n",
       "    <tr style=\"text-align: right;\">\n",
       "      <th></th>\n",
       "      <th></th>\n",
       "      <th></th>\n",
       "      <th></th>\n",
       "      <th>count</th>\n",
       "    </tr>\n",
       "    <tr>\n",
       "      <th>animal</th>\n",
       "      <th>neuron</th>\n",
       "      <th>stimulus</th>\n",
       "      <th>trial</th>\n",
       "      <th></th>\n",
       "    </tr>\n",
       "  </thead>\n",
       "  <tbody>\n",
       "    <tr>\n",
       "      <th rowspan=\"5\" valign=\"top\">st11</th>\n",
       "      <th rowspan=\"5\" valign=\"top\">st11_1_2_1</th>\n",
       "      <th rowspan=\"5\" valign=\"top\">A0</th>\n",
       "      <th>0</th>\n",
       "      <td>18</td>\n",
       "    </tr>\n",
       "    <tr>\n",
       "      <th>1</th>\n",
       "      <td>10</td>\n",
       "    </tr>\n",
       "    <tr>\n",
       "      <th>2</th>\n",
       "      <td>9</td>\n",
       "    </tr>\n",
       "    <tr>\n",
       "      <th>3</th>\n",
       "      <td>2</td>\n",
       "    </tr>\n",
       "    <tr>\n",
       "      <th>4</th>\n",
       "      <td>1</td>\n",
       "    </tr>\n",
       "    <tr>\n",
       "      <th>...</th>\n",
       "      <th>...</th>\n",
       "      <th>...</th>\n",
       "      <th>...</th>\n",
       "      <td>...</td>\n",
       "    </tr>\n",
       "    <tr>\n",
       "      <th rowspan=\"5\" valign=\"top\">st49</th>\n",
       "      <th rowspan=\"5\" valign=\"top\">st49_2_4_1</th>\n",
       "      <th rowspan=\"5\" valign=\"top\">C8</th>\n",
       "      <th>5</th>\n",
       "      <td>94</td>\n",
       "    </tr>\n",
       "    <tr>\n",
       "      <th>6</th>\n",
       "      <td>87</td>\n",
       "    </tr>\n",
       "    <tr>\n",
       "      <th>7</th>\n",
       "      <td>79</td>\n",
       "    </tr>\n",
       "    <tr>\n",
       "      <th>8</th>\n",
       "      <td>101</td>\n",
       "    </tr>\n",
       "    <tr>\n",
       "      <th>9</th>\n",
       "      <td>89</td>\n",
       "    </tr>\n",
       "  </tbody>\n",
       "</table>\n",
       "<p>90 rows × 1 columns</p>\n",
       "</div>"
      ],
      "text/plain": [
       "                                  count\n",
       "animal neuron     stimulus trial       \n",
       "st11   st11_1_2_1 A0       0         18\n",
       "                           1         10\n",
       "                           2          9\n",
       "                           3          2\n",
       "                           4          1\n",
       "...                                 ...\n",
       "st49   st49_2_4_1 C8       5         94\n",
       "                           6         87\n",
       "                           7         79\n",
       "                           8        101\n",
       "                           9         89\n",
       "\n",
       "[90 rows x 1 columns]"
      ]
     },
     "execution_count": 29,
     "metadata": {},
     "output_type": "execute_result"
    }
   ],
   "source": [
    "count_df_idx = count_df.set_index(['animal', 'neuron', 'stimulus', 'trial'])\n",
    "count_df_idx"
   ]
  },
  {
   "cell_type": "markdown",
   "metadata": {},
   "source": [
    "This is what enables us to flexibly select subsets of rows:"
   ]
  },
  {
   "cell_type": "code",
   "execution_count": 30,
   "metadata": {},
   "outputs": [
    {
     "data": {
      "text/html": [
       "<div>\n",
       "<style scoped>\n",
       "    .dataframe tbody tr th:only-of-type {\n",
       "        vertical-align: middle;\n",
       "    }\n",
       "\n",
       "    .dataframe tbody tr th {\n",
       "        vertical-align: top;\n",
       "    }\n",
       "\n",
       "    .dataframe thead th {\n",
       "        text-align: right;\n",
       "    }\n",
       "</style>\n",
       "<table border=\"1\" class=\"dataframe\">\n",
       "  <thead>\n",
       "    <tr style=\"text-align: right;\">\n",
       "      <th></th>\n",
       "      <th></th>\n",
       "      <th></th>\n",
       "      <th></th>\n",
       "      <th>count</th>\n",
       "    </tr>\n",
       "    <tr>\n",
       "      <th>animal</th>\n",
       "      <th>neuron</th>\n",
       "      <th>stimulus</th>\n",
       "      <th>trial</th>\n",
       "      <th></th>\n",
       "    </tr>\n",
       "  </thead>\n",
       "  <tbody>\n",
       "    <tr>\n",
       "      <th rowspan=\"5\" valign=\"top\">st11</th>\n",
       "      <th rowspan=\"5\" valign=\"top\">st11_1_2_1</th>\n",
       "      <th rowspan=\"5\" valign=\"top\">C8</th>\n",
       "      <th>0</th>\n",
       "      <td>13</td>\n",
       "    </tr>\n",
       "    <tr>\n",
       "      <th>1</th>\n",
       "      <td>14</td>\n",
       "    </tr>\n",
       "    <tr>\n",
       "      <th>2</th>\n",
       "      <td>13</td>\n",
       "    </tr>\n",
       "    <tr>\n",
       "      <th>3</th>\n",
       "      <td>8</td>\n",
       "    </tr>\n",
       "    <tr>\n",
       "      <th>4</th>\n",
       "      <td>8</td>\n",
       "    </tr>\n",
       "  </tbody>\n",
       "</table>\n",
       "</div>"
      ],
      "text/plain": [
       "                                  count\n",
       "animal neuron     stimulus trial       \n",
       "st11   st11_1_2_1 C8       0         13\n",
       "                           1         14\n",
       "                           2         13\n",
       "                           3          8\n",
       "                           4          8"
      ]
     },
     "execution_count": 30,
     "metadata": {},
     "output_type": "execute_result"
    }
   ],
   "source": [
    "count_df_idx.loc[\"st11\",:,\"C8\"]"
   ]
  },
  {
   "cell_type": "markdown",
   "metadata": {
    "slideshow": {
     "slide_type": "slide"
    }
   },
   "source": [
    "## Tidy data\n",
    "\n",
    "What's the best way to organize your tables? Although there may be many good answers, a guiding set of principles that will generally make your life easier falls under the rubric of **tidy data**. As summarized in the Wickham article, tidy data obeys the following principles:\n",
    "\n",
    "1. Each variable forms a column\n",
    "2. Each observation forms a row\n",
    "3. Each type of observational unit forms a table\n",
    "\n",
    "These principles are fairly easily [applied](https://tomaugspurger.github.io/modern-5-tidy.html) to tables but might require some more creative thinking when dealing with non-tabular data. In general, I try to avoid a lot of nesting, and try to get data into tabular forms as soon as possible."
   ]
  },
  {
   "cell_type": "markdown",
   "metadata": {
    "slideshow": {
     "slide_type": "slide"
    }
   },
   "source": [
    "## Exercise 7B2\n",
    "\n",
    "Pick one of the CRCNS datasets you and your partner looked at. You'll need to download the data and take a look at how it's organized. Refer to the data description document, and think of a simple visualization you would like to do. For example, you might want to plot a raster of a neuron's response to different stimuli.\n",
    "\n",
    "The goal of this exercise is to think through how you would structure the data to accomplish this goal.\n",
    "\n",
    "First, identify the hierarchical structure of the data (or some subset thereof). Common units of analysis include subject, neuron, trial, voxel, electrode. Be sure to distinguish between *properties* of an analysis unit (for example, the sex or age of a subject) and *identifiers* that can be used to group units at different levels.\n",
    "\n",
    "In the cell below, edit the example to describe this structure:"
   ]
  },
  {
   "cell_type": "markdown",
   "metadata": {},
   "source": [
    "- subject\n",
    "    - sex: male or female\n",
    "    - age: in days\n",
    "    - neuron\n",
    "        - recording location: V1, V2, HC, etc.\n",
    "        - recording date: YYYY-MM-DD\n",
    "        - stimulus\n",
    "            - duration: in seconds\n",
    "            - trial\n",
    "                - spike times"
   ]
  },
  {
   "cell_type": "markdown",
   "metadata": {},
   "source": [
    "Next, write some pseudocode to describe an algorithm for traversing your dataset to load the data into your hierarchy. You may want or need to break apart the data into separate problems; for example, the properties of the subjects might already be in a separate table. Discuss with your instructor what the best part of the problem to focus on is.\n",
    "\n",
    "Pseudocode means that the statements don't have to do anything (for example, you don't need to know the specific function you'll use to read in your data), but you should lay out the loops you'll use and the data structures you'll create."
   ]
  },
  {
   "cell_type": "code",
   "execution_count": null,
   "metadata": {},
   "outputs": [],
   "source": []
  }
 ],
 "metadata": {
  "kernelspec": {
   "display_name": "Python 3",
   "language": "python",
   "name": "python3"
  },
  "language_info": {
   "codemirror_mode": {
    "name": "ipython",
    "version": 3
   },
   "file_extension": ".py",
   "mimetype": "text/x-python",
   "name": "python",
   "nbconvert_exporter": "python",
   "pygments_lexer": "ipython3",
   "version": "3.8.6"
  },
  "rise": {
   "scroll": true
  }
 },
 "nbformat": 4,
 "nbformat_minor": 2
}
